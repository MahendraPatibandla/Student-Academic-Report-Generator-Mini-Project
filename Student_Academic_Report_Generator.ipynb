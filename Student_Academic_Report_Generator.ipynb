{
  "nbformat": 4,
  "nbformat_minor": 0,
  "metadata": {
    "colab": {
      "provenance": []
    },
    "kernelspec": {
      "name": "python3",
      "display_name": "Python 3"
    },
    "language_info": {
      "name": "python"
    }
  },
  "cells": [
    {
      "cell_type": "markdown",
      "source": [
        "# **Problem Statment**"
      ],
      "metadata": {
        "id": "wcyLiBYkwVEJ"
      }
    },
    {
      "cell_type": "markdown",
      "source": [
        "Design a Python program that:\n",
        "\n",
        "1. Accepts student data (name, roll number, marks in 3 subjects).\n",
        "\n",
        "2. Stores the data using inbuilt data structures: use list to collect all students, tuples for fixed subject marks, dictionary for mapping student details, and set to check for duplicate roll numbers.\n",
        "\n",
        "3. Calculates:\n",
        "\n",
        "   * Total and average marks\n",
        "\n",
        "   * Grade based on average\n",
        "\n",
        "   * Topper of the class"
      ],
      "metadata": {
        "id": "uiLjsq7kwa_0"
      }
    },
    {
      "cell_type": "markdown",
      "source": [
        "# Functional Requirements\n",
        "\n",
        "* Input N number of students.\n",
        "\n",
        "* Add all dictionaries to a list\n",
        "\n",
        "* Use a set to ensure no two students have the same roll number\n",
        "\n",
        "* Finally, print:\n",
        "\n",
        "     * Individual report cards\n",
        "\n",
        "     * Topper's name and marks\n",
        "\n",
        "     * Students who scored above class average\n",
        "\n"
      ],
      "metadata": {
        "id": "JycZ1edywwsG"
      }
    },
    {
      "cell_type": "markdown",
      "source": [
        "# Grade Logic:\n",
        "\n",
        "* 90+ → A\n",
        "\n",
        "* 75–89 → B\n",
        "\n",
        "* 60–74 → C\n",
        "\n",
        "* <60 → D\n",
        "\n"
      ],
      "metadata": {
        "id": "Y5TvyEnfxhMH"
      }
    },
    {
      "cell_type": "markdown",
      "source": [
        "# Concepts Covered:\n",
        "\n",
        "* List → To hold all student dictionaries\n",
        "\n",
        "* Tuple → For subject marks (immutable)\n",
        "\n",
        "* Set → To detect duplicate roll numbers\n",
        "\n",
        "* Dictionary → For structured student records"
      ],
      "metadata": {
        "id": "FktIZ40gxy38"
      }
    },
    {
      "cell_type": "markdown",
      "source": [
        "# **Code Implementation**"
      ],
      "metadata": {
        "id": "sry65DqTyJo0"
      }
    },
    {
      "cell_type": "code",
      "source": [
        "# 🧾 Student Records using inbuilt data structures\n",
        "\n",
        "# Each student is represented as a dictionary\n",
        "student1 = {\n",
        "    \"name\": \"Mahendra\",\n",
        "    \"roll_no\": {45},\n",
        "    \"marks\": (90, 85, 72, 99, 83),\n",
        "    \"total\": 429,\n",
        "    \"average\": 85.8,\n",
        "    \"grade\": 'B'\n",
        "}\n",
        "\n",
        "student2 = {\n",
        "    \"name\": \"Puneeth Babu\",\n",
        "    \"roll_no\": {18},\n",
        "    \"marks\": (90, 99, 98, 99, 95),\n",
        "    \"total\": 481,\n",
        "    \"average\": 96.2,\n",
        "    \"grade\": 'A'\n",
        "}\n",
        "\n",
        "student3 = {\n",
        "    \"name\": \"Vivek\",\n",
        "    \"roll_no\": {66},\n",
        "    \"marks\": (90, 97, 82, 93, 87),\n",
        "    \"total\": 449,\n",
        "    \"average\": 89.8,\n",
        "    \"grade\": 'B'\n",
        "}\n",
        "\n",
        "student4 = {\n",
        "    \"name\": \"John\",\n",
        "    \"roll_no\": {63},\n",
        "    \"marks\": (90, 66, 77, 80, 79),\n",
        "    \"total\": 392,\n",
        "    \"average\": 78.4,\n",
        "    \"grade\": 'B'\n",
        "}\n",
        "\n",
        "student5 = {\n",
        "    \"name\": \"Kaiser\",\n",
        "    \"roll_no\": {12},\n",
        "    \"marks\": (80, 61, 55, 77, 62),\n",
        "    \"total\": 335,\n",
        "    \"average\": 67.0,\n",
        "    \"grade\": 'C'\n",
        "}\n",
        "\n",
        "# 🔁 Store all student dictionaries in a list\n",
        "students = [student1, student2, student3, student4, student5]\n",
        "\n",
        "# 📌 Display all student records\n",
        "print(\"📄 All Student Records:\\n\")\n",
        "for student in students:\n",
        "    print(list(student.items()))\n",
        "    print(\"-\" * 40)\n",
        "\n",
        "# 📊 Calculate Class Average\n",
        "total_avg = sum(student[\"average\"] for student in students) / len(students)\n",
        "print(f\"\\n📈 Class Average: {total_avg:.2f}\")\n",
        "\n",
        "# 🏆 Find Topper\n",
        "topper = max(students, key=lambda x: x[\"total\"])\n",
        "print(f\"\\n🏅 Topper: {topper['name']} with {topper['total']} marks\")\n",
        "\n",
        "# 🔍 Students Above Class Average\n",
        "print(\"\\n🎯 Students who scored above class average:\")\n",
        "for student in students:\n",
        "    if student[\"average\"] > total_avg:\n",
        "        print(f\"- {student['name']} (Average: {student['average']})\")\n",
        "\n",
        "# ✅ Optional: Check for Duplicate Roll Numbers using Set\n",
        "roll_numbers = set()\n",
        "duplicates = False\n",
        "for student in students:\n",
        "    roll = next(iter(student[\"roll_no\"]))  # since it's a set with one element\n",
        "    if roll in roll_numbers:\n",
        "        print(f\"⚠ Duplicate Roll Number found: {roll}\")\n",
        "        duplicates = True\n",
        "    roll_numbers.add(roll)\n",
        "\n",
        "if not duplicates:\n",
        "    print(\"\\n🆗 All roll numbers are unique.\")\n"
      ],
      "metadata": {
        "colab": {
          "base_uri": "https://localhost:8080/"
        },
        "id": "RE3ioxIG6AH0",
        "outputId": "ca447964-660b-4df7-e6d3-1d0417717a7b"
      },
      "execution_count": null,
      "outputs": [
        {
          "output_type": "stream",
          "name": "stdout",
          "text": [
            "📄 All Student Records:\n",
            "\n",
            "[('name', 'Mahendra'), ('roll_no', {45}), ('marks', (90, 85, 72, 99, 83)), ('total', 429), ('average', 85.8), ('grade', 'B')]\n",
            "----------------------------------------\n",
            "[('name', 'Puneeth Babu'), ('roll_no', {18}), ('marks', (90, 99, 98, 99, 95)), ('total', 481), ('average', 96.2), ('grade', 'A')]\n",
            "----------------------------------------\n",
            "[('name', 'Vivek'), ('roll_no', {66}), ('marks', (90, 97, 82, 93, 87)), ('total', 449), ('average', 89.8), ('grade', 'B')]\n",
            "----------------------------------------\n",
            "[('name', 'John'), ('roll_no', {63}), ('marks', (90, 66, 77, 80, 79)), ('total', 392), ('average', 78.4), ('grade', 'B')]\n",
            "----------------------------------------\n",
            "[('name', 'Kaiser'), ('roll_no', {12}), ('marks', (80, 61, 55, 77, 62)), ('total', 335), ('average', 67.0), ('grade', 'C')]\n",
            "----------------------------------------\n",
            "\n",
            "📈 Class Average: 83.44\n",
            "\n",
            "🏅 Topper: Puneeth Babu with 481 marks\n",
            "\n",
            "🎯 Students who scored above class average:\n",
            "- Mahendra (Average: 85.8)\n",
            "- Puneeth Babu (Average: 96.2)\n",
            "- Vivek (Average: 89.8)\n",
            "\n",
            "🆗 All roll numbers are unique.\n"
          ]
        }
      ]
    }
  ]
}